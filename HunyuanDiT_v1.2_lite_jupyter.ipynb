{
  "cells": [
    {
      "cell_type": "markdown",
      "metadata": {
        "id": "view-in-github"
      },
      "source": [
        "[![Open In Colab](https://colab.research.google.com/assets/colab-badge.svg)](https://colab.research.google.com/github/camenduru/HunyuanDiT-jupyter/blob/main/HunyuanDiT_v1.2_lite_jupyter.ipynb)"
      ]
    },
    {
      "cell_type": "code",
      "execution_count": null,
      "metadata": {
        "id": "VjYy0F2gZIPR"
      },
      "outputs": [],
      "source": [
        "%cd /content\n",
        "!GIT_LFS_SKIP_SMUDGE=1 git clone -b v1.2 https://github.com/camenduru/HunyuanDiT\n",
        "%cd /content/HunyuanDiT\n",
        "\n",
        "!pip install git+https://github.com/huggingface/diffusers accelerate bitsandbytes\n",
        "!pip install gradio==4.31.0 loguru==0.7.2 timm==0.9.5 einops==0.7.0 accelerate==0.29.3 peft==0.10.0 deepspeed==0.14.4\n",
        "\n",
        "!python lite/inference.py \"Tencent-Hunyuan/HunyuanDiT-v1.1-Diffusers-Distilled\" \"一个宇航员在骑马\" 50 6"
      ]
    }
  ],
  "metadata": {
    "accelerator": "GPU",
    "colab": {
      "gpuType": "T4",
      "provenance": []
    },
    "kernelspec": {
      "display_name": "Python 3",
      "name": "python3"
    },
    "language_info": {
      "name": "python"
    }
  },
  "nbformat": 4,
  "nbformat_minor": 0
}
