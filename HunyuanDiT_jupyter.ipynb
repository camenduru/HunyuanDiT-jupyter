{
  "cells": [
    {
      "cell_type": "markdown",
      "metadata": {
        "id": "view-in-github"
      },
      "source": [
        "[![Open In Colab](https://colab.research.google.com/assets/colab-badge.svg)](https://colab.research.google.com/github/camenduru/HunyuanDiT-jupyter/blob/main/HunyuanDiT_jupyter.ipynb)"
      ]
    },
    {
      "cell_type": "code",
      "execution_count": null,
      "metadata": {
        "id": "VjYy0F2gZIPR"
      },
      "outputs": [],
      "source": [
        "%cd /content\n",
        "!GIT_LFS_SKIP_SMUDGE=1 git clone -b dev https://github.com/camenduru/HunyuanDiT\n",
        "%cd /content/HunyuanDiT\n",
        "\n",
        "!pip install gradio==4.31.0 loguru==0.7.2 diffusers==0.21.2 timm==0.9.5 einops==0.7.0 accelerate==0.29.3\n",
        "\n",
        "!apt -y install -qq aria2\n",
        "!aria2c --console-log-level=error -c -x 16 -s 16 -k 1M https://huggingface.co/Tencent-Hunyuan/HunyuanDiT/raw/main/t2i/clip_text_encoder/config.json -d /content/HunyuanDiT/ckpts/t2i/clip_text_encoder -o config.json\n",
        "!aria2c --console-log-level=error -c -x 16 -s 16 -k 1M https://huggingface.co/Tencent-Hunyuan/HunyuanDiT/resolve/main/t2i/clip_text_encoder/pytorch_model.bin -d /content/HunyuanDiT/ckpts/t2i/clip_text_encoder -o pytorch_model.bin\n",
        "!aria2c --console-log-level=error -c -x 16 -s 16 -k 1M https://huggingface.co/Tencent-Hunyuan/HunyuanDiT/resolve/main/t2i/model/pytorch_model_ema.pt -d /content/HunyuanDiT/ckpts/t2i/model -o pytorch_model_ema.pt\n",
        "!aria2c --console-log-level=error -c -x 16 -s 16 -k 1M https://huggingface.co/Tencent-Hunyuan/HunyuanDiT/resolve/main/t2i/model/pytorch_model_module.pt -d /content/HunyuanDiT/ckpts/t2i/model -o pytorch_model_module.pt\n",
        "!aria2c --console-log-level=error -c -x 16 -s 16 -k 1M https://huggingface.co/Tencent-Hunyuan/HunyuanDiT/raw/main/t2i/mt5/config.json -d /content/HunyuanDiT/ckpts/t2i/mt5 -o config.json\n",
        "!aria2c --console-log-level=error -c -x 16 -s 16 -k 1M https://huggingface.co/Tencent-Hunyuan/HunyuanDiT/raw/main/t2i/mt5/generation_config.json -d /content/HunyuanDiT/ckpts/t2i/mt5 -o generation_config.json\n",
        "!aria2c --console-log-level=error -c -x 16 -s 16 -k 1M https://huggingface.co/Tencent-Hunyuan/HunyuanDiT/resolve/main/t2i/mt5/pytorch_model.bin -d /content/HunyuanDiT/ckpts/t2i/mt5 -o pytorch_model.bin\n",
        "!aria2c --console-log-level=error -c -x 16 -s 16 -k 1M https://huggingface.co/Tencent-Hunyuan/HunyuanDiT/raw/main/t2i/mt5/special_tokens_map.json -d /content/HunyuanDiT/ckpts/t2i/mt5 -o special_tokens_map.json\n",
        "!aria2c --console-log-level=error -c -x 16 -s 16 -k 1M https://huggingface.co/Tencent-Hunyuan/HunyuanDiT/resolve/main/t2i/mt5/spiece.model -d /content/HunyuanDiT/ckpts/t2i/mt5 -o spiece.model\n",
        "!aria2c --console-log-level=error -c -x 16 -s 16 -k 1M https://huggingface.co/Tencent-Hunyuan/HunyuanDiT/raw/main/t2i/mt5/tokenizer_config.json -d /content/HunyuanDiT/ckpts/t2i/mt5 -o tokenizer_config.json\n",
        "!aria2c --console-log-level=error -c -x 16 -s 16 -k 1M https://huggingface.co/Tencent-Hunyuan/HunyuanDiT/raw/main/t2i/sdxl-vae-fp16-fix/config.json -d /content/HunyuanDiT/ckpts/t2i/sdxl-vae-fp16-fix -o config.json\n",
        "!aria2c --console-log-level=error -c -x 16 -s 16 -k 1M https://huggingface.co/Tencent-Hunyuan/HunyuanDiT/resolve/main/t2i/sdxl-vae-fp16-fix/diffusion_pytorch_model.bin?download=true -d /content/HunyuanDiT/ckpts/t2i/sdxl-vae-fp16-fix -o diffusion_pytorch_model.bin\n",
        "!aria2c --console-log-level=error -c -x 16 -s 16 -k 1M https://huggingface.co/Tencent-Hunyuan/HunyuanDiT/resolve/main/t2i/sdxl-vae-fp16-fix/diffusion_pytorch_model.safetensors?download=true -d /content/HunyuanDiT/ckpts/t2i/sdxl-vae-fp16-fix -o diffusion_pytorch_model.safetensors\n",
        "!aria2c --console-log-level=error -c -x 16 -s 16 -k 1M https://huggingface.co/Tencent-Hunyuan/HunyuanDiT/raw/main/t2i/tokenizer/special_tokens_map.json -d /content/HunyuanDiT/ckpts/t2i/tokenizer -o special_tokens_map.json\n",
        "!aria2c --console-log-level=error -c -x 16 -s 16 -k 1M https://huggingface.co/Tencent-Hunyuan/HunyuanDiT/raw/main/t2i/tokenizer/tokenizer_config.json -d /content/HunyuanDiT/ckpts/t2i/tokenizer -o tokenizer_config.json\n",
        "!aria2c --console-log-level=error -c -x 16 -s 16 -k 1M https://huggingface.co/Tencent-Hunyuan/HunyuanDiT/raw/main/t2i/tokenizer/vocab.txt -d /content/HunyuanDiT/ckpts/t2i/tokenizer -o vocab.txt\n",
        "!aria2c --console-log-level=error -c -x 16 -s 16 -k 1M https://huggingface.co/Tencent-Hunyuan/HunyuanDiT/raw/main/t2i/tokenizer/vocab_org.txt -d /content/HunyuanDiT/ckpts/t2i/tokenizer -o vocab_org.txt\n",
        "\n",
        "!python app/hydit_app.py --no-enhance --lang en"
      ]
    }
  ],
  "metadata": {
    "accelerator": "GPU",
    "colab": {
      "gpuType": "T4",
      "provenance": []
    },
    "kernelspec": {
      "display_name": "Python 3",
      "name": "python3"
    },
    "language_info": {
      "name": "python"
    }
  },
  "nbformat": 4,
  "nbformat_minor": 0
}
